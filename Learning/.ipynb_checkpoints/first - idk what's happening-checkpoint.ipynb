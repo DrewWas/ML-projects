{
 "cells": [
  {
   "cell_type": "code",
   "execution_count": 4,
   "id": "fac56834-a54f-40e8-9b8e-8430195bb77d",
   "metadata": {},
   "outputs": [
    {
     "name": "stdout",
     "output_type": "stream",
     "text": [
      "Epoch 1/3\n",
      "1875/1875 [==============================] - 4s 2ms/step - loss: 0.2606 - accuracy: 0.9242\n",
      "Epoch 2/3\n",
      "1875/1875 [==============================] - 3s 1ms/step - loss: 0.1049 - accuracy: 0.9674\n",
      "Epoch 3/3\n",
      "1875/1875 [==============================] - 3s 1ms/step - loss: 0.0728 - accuracy: 0.9769\n"
     ]
    },
    {
     "data": {
      "text/plain": [
       "<keras.callbacks.History at 0x13c004790>"
      ]
     },
     "execution_count": 4,
     "metadata": {},
     "output_type": "execute_result"
    }
   ],
   "source": [
    "import tensorflow as tf\n",
    "\n",
    "mnist = tf.keras.datasets.mnist\n",
    "\n",
    "(x_train, y_train), (x_test, y_test) = mnist.load_data()\n",
    "\n",
    "x_train = tf.keras.utils.normalize(x_train, axis = 1)\n",
    "x_test = tf.keras.utils.normalize(x_test, axis = 1)\n",
    "\n",
    "model = tf.keras.models.Sequential()\n",
    "model.add(tf.keras.layers.Flatten())\n",
    "model.add(tf.keras.layers.Dense(128, activation = tf.nn.relu))\n",
    "model.add(tf.keras.layers.Dense(128, activation = tf.nn.relu))\n",
    "model.add(tf.keras.layers.Dense(10, activation = tf.nn.softmax))\n",
    "\n",
    "model.compile(optimizer = 'adam', loss = 'sparse_categorical_crossentropy', metrics = ['accuracy'])\n",
    "\n",
    "model.fit(x_train, y_train, epochs = 3)\n"
   ]
  },
  {
   "cell_type": "code",
   "execution_count": 5,
   "id": "a8423ec7-5d3f-4021-9913-c0a7a7b9f3dd",
   "metadata": {},
   "outputs": [
    {
     "name": "stdout",
     "output_type": "stream",
     "text": [
      "313/313 [==============================] - 0s 1ms/step - loss: 0.0937 - accuracy: 0.9713\n",
      "0.09371837228536606 0.9713000059127808\n"
     ]
    }
   ],
   "source": [
    "val_loss, val_acc = model.evaluate(x_test, y_test)\n",
    "\n",
    "print(val_loss, val_acc)"
   ]
  },
  {
   "cell_type": "code",
   "execution_count": null,
   "id": "a96414be-ac8d-42a8-8a97-d9c179cb67e7",
   "metadata": {},
   "outputs": [],
   "source": [
    "model.save('hello_world')"
   ]
  },
  {
   "cell_type": "code",
   "execution_count": null,
   "id": "24326590-7610-4103-9b42-afd626deadce",
   "metadata": {},
   "outputs": [],
   "source": [
    "new_model = tf.keras.models.load_model('hello_world')"
   ]
  },
  {
   "cell_type": "code",
   "execution_count": null,
   "id": "91b6ebe6-d729-43b2-bc80-19d3619ffd5a",
   "metadata": {},
   "outputs": [],
   "source": [
    "predictions = new_model.predict([x_test])\n",
    "the = input('What index would you like to see? ')\n",
    "import numpy as np\n",
    "import matplotlib.pyplot as plt\n",
    "\n",
    "print(np.argmax(predictions[int(the)]))\n",
    "plt.imshow(x_test[int(the)])\n",
    "plt.show()"
   ]
  }
 ],
 "metadata": {
  "kernelspec": {
   "display_name": "Python 3",
   "language": "python",
   "name": "python3"
  },
  "language_info": {
   "codemirror_mode": {
    "name": "ipython",
    "version": 3
   },
   "file_extension": ".py",
   "mimetype": "text/x-python",
   "name": "python",
   "nbconvert_exporter": "python",
   "pygments_lexer": "ipython3",
   "version": "3.9.1"
  }
 },
 "nbformat": 4,
 "nbformat_minor": 5
}
