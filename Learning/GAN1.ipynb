{
 "cells": [
  {
   "cell_type": "code",
   "execution_count": 67,
   "id": "intermediate-toilet",
   "metadata": {},
   "outputs": [],
   "source": [
    "import tensorflow as tf\n",
    "import matplotlib.pyplot as plt\n",
    "import numpy as np\n",
    "import time"
   ]
  },
  {
   "cell_type": "code",
   "execution_count": 6,
   "id": "legal-causing",
   "metadata": {},
   "outputs": [],
   "source": [
    "#Data\n",
    "(train_images, train_labels), (test_images, test_labels) = tf.keras.datasets.mnist.load_data()"
   ]
  },
  {
   "cell_type": "code",
   "execution_count": 22,
   "id": "gentle-hardwood",
   "metadata": {},
   "outputs": [
    {
     "data": {
      "text/plain": [
       "<matplotlib.image.AxesImage at 0x13b6dc430>"
      ]
     },
     "execution_count": 22,
     "metadata": {},
     "output_type": "execute_result"
    },
    {
     "data": {
      "image/png": "[encoded data removed]",
      "text/plain": [
       "<Figure size 432x288 with 1 Axes>"
      ]
     },
     "metadata": {
      "needs_background": "light"
     },
     "output_type": "display_data"
    }
   ],
   "source": [
    "plt.imshow(train_images[1])"
   ]
  },
  {
   "cell_type": "code",
   "execution_count": 7,
   "id": "suspected-projection",
   "metadata": {},
   "outputs": [],
   "source": [
    "train_images = train_images.reshape(train_images.shape[0], 28, 28, 1)"
   ]
  },
  {
   "cell_type": "code",
   "execution_count": 8,
   "id": "relative-remains",
   "metadata": {},
   "outputs": [],
   "source": [
    "train_images = (train_images-127.5)/127.5"
   ]
  },
  {
   "cell_type": "code",
   "execution_count": 10,
   "id": "iraqi-costs",
   "metadata": {},
   "outputs": [],
   "source": [
    "train_dataset = tf.data.Dataset.from_tensor_slices(train_images).shuffle(train_images.shape[0]).batch(100)\n"
   ]
  },
  {
   "cell_type": "markdown",
   "id": "according-start",
   "metadata": {},
   "source": [
    "# Discriminator"
   ]
  },
  {
   "cell_type": "code",
   "execution_count": 27,
   "id": "aging-edinburgh",
   "metadata": {},
   "outputs": [],
   "source": [
    "#Output probability that the number is 'real' or 'fake'\n",
    "\n",
    "def discriminator_model():\n",
    "    model = tf.keras.Sequential()\n",
    "    model.add(tf.keras.layers.Conv2D(7,(3,3), padding=\"same\", input_shape=(28,28,1)))\n",
    "    model.add(tf.keras.layers.Flatten())\n",
    "    model.add(tf.keras.layers.LeakyReLU())\n",
    "    model.add(tf.keras.layers.Dense(50,activation=\"relu\"))\n",
    "    model.add(tf.keras.layers.Dense(1))\n",
    "    return model"
   ]
  },
  {
   "cell_type": "code",
   "execution_count": 18,
   "id": "hollow-lebanon",
   "metadata": {},
   "outputs": [],
   "source": [
    "model_discriminator = discriminator_model()"
   ]
  },
  {
   "cell_type": "code",
   "execution_count": 21,
   "id": "aquatic-michigan",
   "metadata": {},
   "outputs": [
    {
     "data": {
      "text/plain": [
       "<tf.Tensor: shape=(1, 1), dtype=float32, numpy=array([[0.1462142]], dtype=float32)>"
      ]
     },
     "execution_count": 21,
     "metadata": {},
     "output_type": "execute_result"
    }
   ],
   "source": [
    "model_discriminator(np.random.rand(1,28,28,1).astype(\"float32\"))"
   ]
  },
  {
   "cell_type": "code",
   "execution_count": 24,
   "id": "retired-ireland",
   "metadata": {},
   "outputs": [],
   "source": [
    "discriminator_optimizer = tf.optimizers.Adam(1e-3)"
   ]
  },
  {
   "cell_type": "code",
   "execution_count": 11,
   "id": "south-tribe",
   "metadata": {},
   "outputs": [],
   "source": [
    "def get_discriminator_loss(real_predictions, fake_predicitons):\n",
    "    real_predictions = tf.sigmoid(real_predictions)\n",
    "    fake_predictions - tf.sigmoid(fake_predictions)\n",
    "    real_loss = tf.loss.binary_crossentropy(tf.ones_like(real_predictions), real_predictions)\n",
    "    fake_loss = tf.loss.binary_crossentropy(tf.zeros_like(fake_predictions), fake_predictions)\n",
    "    return fake_loss + real_loss"
   ]
  },
  {
   "cell_type": "markdown",
   "id": "separate-penguin",
   "metadata": {},
   "source": [
    "# Generator"
   ]
  },
  {
   "cell_type": "code",
   "execution_count": 9,
   "id": "christian-liabilities",
   "metadata": {},
   "outputs": [],
   "source": [
    "import tensorflow as tf\n",
    "def make_generator_model():\n",
    "    model = tf.keras.Sequential()\n",
    "    model.add(tf.keras.layers.Dense(7*7*256, input_shape = (100,)))\n",
    "    model.add(tf.keras.layers.BatchNormalization())\n",
    "    model.add(tf.keras.layers.Reshape((7,7,256)))\n",
    "    model.add(tf.keras.layers.Conv2DTranspose(128,(3,3), padding = \"same\"))\n",
    "    model.add(tf.keras.layers.BatchNormalization())\n",
    "    model.add(tf.keras.layers.Conv2DTranspose(64,(3,3), strides = (2,2), padding = \"same\"))\n",
    "    model.add(tf.keras.layers.BatchNormalization())\n",
    "    model.add(tf.keras.layers.Conv2DTranspose(1, (3,3), strides = (2,2), padding = \"same\"))\n",
    "    return model"
   ]
  },
  {
   "cell_type": "code",
   "execution_count": 14,
   "id": "effective-genealogy",
   "metadata": {},
   "outputs": [],
   "source": [
    "generator = make_generator_model()"
   ]
  },
  {
   "cell_type": "code",
   "execution_count": 57,
   "id": "quiet-appraisal",
   "metadata": {},
   "outputs": [],
   "source": [
    "generator_optimizer = tf.optimizers.Adam(1e-4)\n",
    "#discriminator_optimizer = tf.optimizers.Adam(1e-4)"
   ]
  },
  {
   "cell_type": "code",
   "execution_count": 17,
   "id": "creative-bandwidth",
   "metadata": {},
   "outputs": [],
   "source": [
    "def get_generator_loss(fake_predictions):\n",
    "    fake_predictions = tf.sigmoid(fake_predictions)\n",
    "    fake_loss = tf.loss.binary_crossentropy(tf.ones_like(fake_predictions), fake_predictions)\n",
    "    return fake_loss"
   ]
  },
  {
   "cell_type": "markdown",
   "id": "indie-hearts",
   "metadata": {},
   "source": [
    "# Training"
   ]
  },
  {
   "cell_type": "code",
   "execution_count": 18,
   "id": "permanent-transaction",
   "metadata": {},
   "outputs": [],
   "source": [
    "def train(dataset, epochs):\n",
    "    for _ in range(epochs):\n",
    "        for images in dataset:\n",
    "            images = tf.cast(images, tf.dtypes.float32)\n",
    "            train_step(images)"
   ]
  },
  {
   "cell_type": "code",
   "execution_count": 58,
   "id": "given-renaissance",
   "metadata": {},
   "outputs": [],
   "source": [
    "def train_step(images):\n",
    "    fake_image_noise = np.random.randn(256, 100).astype(\"float32\")\n",
    "    with tf.GradientTape() as gen_tape, tf.GradientTape() as disc_tape:\n",
    "        generated_images = generator(fake_image_noise)\n",
    "        real_output = model_discriminator(images)\n",
    "        fake_output = model_discriminator(generated_images)\n",
    "        \n",
    "        gen_loss = get_generator_loss(fake_output)\n",
    "        disc_loss = get_discriminator_loss(real_output, fake_output)\n",
    "        \n",
    "        gradients_of_generator = gen_tape.gradient(gen_loss, generator.trainable_variables)\n",
    "        gradients_of_discriminator = disc_tape.gradient(disc_loss, model_discriminator.trainable_variables)\n",
    "  \n",
    "        #generator_optimizer.apply_gradients(zip(gradients_of_generator, generator.trainable_variables)\n",
    "        discriminator_optimizer.apply_gradients(zip(gradients_of_discriminator, model_discriminator.trainable_variables))\n",
    "                                      \n",
    "        print(\"generator loss: \", np.mean(gen_loss))\n",
    "        print(\"discriminator loss: \", np.mean(disc_loss))"
   ]
  },
  {
   "cell_type": "code",
   "execution_count": 65,
   "id": "rocky-vector",
   "metadata": {},
   "outputs": [
    {
     "ename": "NameError",
     "evalue": "name 'train_data' is not defined",
     "output_type": "error",
     "traceback": [
      "\u001b[0;31m---------------------------------------------------------------------------\u001b[0m",
      "\u001b[0;31mNameError\u001b[0m                                 Traceback (most recent call last)",
      "\u001b[0;32m<ipython-input-65-6846e877c234>\u001b[0m in \u001b[0;36m<module>\u001b[0;34m\u001b[0m\n\u001b[0;32m----> 1\u001b[0;31m \u001b[0mtrain\u001b[0m\u001b[0;34m(\u001b[0m\u001b[0mtrain_data\u001b[0m\u001b[0;34m,\u001b[0m\u001b[0;36m2\u001b[0m\u001b[0;34m)\u001b[0m\u001b[0;34m\u001b[0m\u001b[0;34m\u001b[0m\u001b[0m\n\u001b[0m",
      "\u001b[0;31mNameError\u001b[0m: name 'train_data' is not defined"
     ]
    }
   ],
   "source": [
    "train(train_data,2)"
   ]
  },
  {
   "cell_type": "code",
   "execution_count": 69,
   "id": "behavioral-saskatchewan",
   "metadata": {},
   "outputs": [
    {
     "ename": "ValueError",
     "evalue": "cannot reshape array of size 100 into shape (28,28)",
     "output_type": "error",
     "traceback": [
      "\u001b[0;31m---------------------------------------------------------------------------\u001b[0m",
      "\u001b[0;31mValueError\u001b[0m                                Traceback (most recent call last)",
      "\u001b[0;32m<ipython-input-69-dfd8190bbc79>\u001b[0m in \u001b[0;36m<module>\u001b[0;34m\u001b[0m\n\u001b[0;32m----> 1\u001b[0;31m \u001b[0mplt\u001b[0m\u001b[0;34m.\u001b[0m\u001b[0mimshow\u001b[0m\u001b[0;34m(\u001b[0m\u001b[0mgenerator\u001b[0m\u001b[0;34m(\u001b[0m\u001b[0mnp\u001b[0m\u001b[0;34m.\u001b[0m\u001b[0mrandom\u001b[0m\u001b[0;34m.\u001b[0m\u001b[0mrand\u001b[0m\u001b[0;34m(\u001b[0m\u001b[0;36m1\u001b[0m\u001b[0;34m,\u001b[0m\u001b[0;36m100\u001b[0m\u001b[0;34m)\u001b[0m\u001b[0;34m.\u001b[0m\u001b[0mreshape\u001b[0m\u001b[0;34m(\u001b[0m\u001b[0;36m28\u001b[0m\u001b[0;34m,\u001b[0m\u001b[0;36m28\u001b[0m\u001b[0;34m)\u001b[0m\u001b[0;34m)\u001b[0m\u001b[0;34m)\u001b[0m\u001b[0;34m\u001b[0m\u001b[0;34m\u001b[0m\u001b[0m\n\u001b[0m",
      "\u001b[0;31mValueError\u001b[0m: cannot reshape array of size 100 into shape (28,28)"
     ]
    }
   ],
   "source": [
    "plt.imshow(generator(np.random.rand(1,100).reshape(28,28)))"
   ]
  },
  {
   "cell_type": "code",
   "execution_count": null,
   "id": "metropolitan-creativity",
   "metadata": {},
   "outputs": [],
   "source": []
  }
 ],
 "metadata": {
  "kernelspec": {
   "display_name": "Python 3",
   "language": "python",
   "name": "python3"
  },
  "language_info": {
   "codemirror_mode": {
    "name": "ipython",
    "version": 3
   },
   "file_extension": ".py",
   "mimetype": "text/x-python",
   "name": "python",
   "nbconvert_exporter": "python",
   "pygments_lexer": "ipython3",
   "version": "3.9.9"
  }
 },
 "nbformat": 4,
 "nbformat_minor": 5
}
